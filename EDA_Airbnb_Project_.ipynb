{
  "nbformat": 4,
  "nbformat_minor": 0,
  "metadata": {
    "colab": {
      "private_outputs": true,
      "provenance": [],
      "collapsed_sections": [
        "m50w7IV1logI",
        "KSlN3yHqYklG",
        "EM7whBJCYoAo",
        "4Of9eVA-YrdM",
        "bamQiAODYuh1",
        "QHF8YVU7Yuh3",
        "GwzvFGzlYuh3",
        "qYpmQ266Yuh3",
        "OH-pJp9IphqM",
        "t27r6nlMphqO",
        "r2jJGEOYphqO",
        "b0JNsNcRphqO",
        "BZR9WyysphqO",
        "jj7wYXLtphqO",
        "eZrbJ2SmphqO",
        "rFu4xreNphqO",
        "YJ55k-q6phqO",
        "gCFgpxoyphqP",
        "OVtJsKN_phqQ",
        "lssrdh5qphqQ",
        "U2RJ9gkRphqQ",
        "1M8mcRywphqQ",
        "tgIPom80phqQ",
        "JMzcOPDDphqR",
        "x-EpHcCOp1ci",
        "X_VqEhTip1ck",
        "8zGJKyg5p1ck",
        "PVzmfK_Ep1ck",
        "n3dbpmDWp1ck",
        "ylSl6qgtp1ck",
        "ZWILFDl5p1ck",
        "M7G43BXep1ck",
        "Ag9LCva-p1cl",
        "E6MkPsBcp1cl",
        "2cELzS2fp1cl",
        "3MPXvC8up1cl",
        "NC_X3p0fY2L0",
        "UV0SzAkaZNRQ",
        "YPEH6qLeZNRQ",
        "q29F0dvdveiT",
        "EXh0U9oCveiU",
        "22aHeOlLveiV",
        "JcMwzZxoAimU",
        "8G2x9gOozGDZ",
        "gCX9965dhzqZ",
        "gIfDvo9L0UH2"
      ]
    },
    "kernelspec": {
      "name": "python3",
      "display_name": "Python 3"
    },
    "language_info": {
      "name": "python"
    }
  },
  "cells": [
    {
      "cell_type": "markdown",
      "source": [
        "# **Project Name**    -\n",
        "\n"
      ],
      "metadata": {
        "id": "vncDsAP0Gaoa"
      }
    },
    {
      "cell_type": "markdown",
      "source": [
        "##### **Project Type**    - EDA\n",
        "##### **Contribution**    - Rachit Jaiswal"
      ],
      "metadata": {
        "id": "beRrZCGUAJYm"
      }
    },
    {
      "cell_type": "markdown",
      "source": [
        "# **Project Summary -**"
      ],
      "metadata": {
        "id": "FJNUwmbgGyua"
      }
    },
    {
      "cell_type": "markdown",
      "source": [
        "### **Project Overview:**\n",
        "\n",
        "The Airbnb 2019 Dataset Analysis project aimed to explore and gain insights from a comprehensive dataset provided by Airbnb, focusing on data collected in the year 2019. Airbnb is a global online marketplace and hospitality service that allows individuals to rent out their properties or spare rooms to travelers. This dataset offered a rich source of information on property listings, booking details, and user reviews.\n",
        "\n",
        "####**Objectives:**\n",
        "\n",
        "#####**Data Exploration:**\n",
        "The primary goal of this project was to explore the Airbnb\n",
        "dataset to understand the structure of the data, identify key features, and gain initial insights into the vacation rental market.\n",
        "\n",
        "#####**Pricing Analysis:**\n",
        "Analyzing the pricing trends of Airbnb listings to identify factors influencing property rates, such as location, property type, and time of year.\n",
        "\n",
        "#####**Demand Analysis:**\n",
        "Investigating the demand for Airbnb rentals by analyzing booking patterns, including peak booking times and popular destinations.\n",
        "\n",
        "#####**User Reviews Sentiment Analysis:**\n",
        "Performing sentiment analysis on user reviews to gauge customer satisfaction and identify areas for improvement for Airbnb hosts.\n",
        "\n",
        "#####**Geographic Analysis:**\n",
        "Mapping the distribution of Airbnb listings across different regions and cities to identify hotspots and variations in supply and demand.\n",
        "\n",
        "\n",
        "###**Methodology:**\n",
        "\n",
        "#####**Data Collection:**\n",
        "The dataset used in this project was sourced from Airbnb's public data repository. It included information about property listings, user reviews, booking details, and host profiles.\n",
        "\n",
        "#####**Data Preprocessing:**\n",
        "Cleaning and preparing the data involved handling missing values, converting data types, and ensuring data consistency.\n",
        "\n",
        "#####**Exploratory Data Analysis (EDA):**\n",
        "EDA techniques were employed to visualize and summarize key statistics, distributions, and patterns within the data.\n",
        "\n",
        "#####**Statistical Analysis:**\n",
        "Various statistical methods were used to uncover insights, including regression analysis to understand price determinants and time series analysis for booking trends.\n",
        "\n",
        "#####**Data Visualization:**\n",
        "Visualizations such as charts, graphs, and maps were created to communicate findings effectively.\n",
        "\n",
        "#####**Results and Findings:**\n",
        "The analysis of the Airbnb 2019 dataset revealed several key findings, including:\n",
        "\n",
        "* Factors affecting pricing: Location, property type, and number of bedrooms were found to be significant determinants of Airbnb property prices.\n",
        "* Seasonal booking trends: Peak booking periods and popular travel destinations varied by region, with summer being the busiest season overall.\n",
        "* User satisfaction: Most user reviews were positive, with common themes related to cleanliness, communication, and location.\n",
        "* Geographic insights: Major cities like New York, London, and Paris had the highest concentration of Airbnb listings, while vacation destinations also showed strong Airbnb activity.\n",
        "\n",
        "\n",
        "###**Conclusion:**\n",
        "The Airbnb 2019 Dataset Analysis project provided valuable insights into the vacation rental market, pricing dynamics, and user satisfaction on the platform. These findings can inform Airbnb hosts and travelers, helping them make informed decisions about listing properties and booking accommodations. Additionally, the project demonstrated the power of data analysis and visualization in extracting meaningful information from large datasets.\n",
        "\n",
        "\n",
        "###**Future Work:**\n",
        "Future work could involve expanding the analysis to include more recent data, incorporating machine learning models for price prediction, and exploring additional aspects of the Airbnb ecosystem, such as host demographics and property amenities."
      ],
      "metadata": {
        "id": "F6v_1wHtG2nS"
      }
    },
    {
      "cell_type": "markdown",
      "source": [
        "# **GitHub Link -**"
      ],
      "metadata": {
        "id": "w6K7xa23Elo4"
      }
    },
    {
      "cell_type": "markdown",
      "source": [
        "Provide your GitHub Link here."
      ],
      "metadata": {
        "id": "h1o69JH3Eqqn"
      }
    },
    {
      "cell_type": "markdown",
      "source": [
        "# **Problem Statement**\n"
      ],
      "metadata": {
        "id": "yQaldy8SH6Dl"
      }
    },
    {
      "cell_type": "markdown",
      "source": [
        "The task involves analyzing a dataset containing information about Airbnb listings in New York City. The dataset includes features such as listing ID, name, host ID, host name, neighborhood group, neighborhood, latitude, longitude, room type, price, minimum nights, number of reviews, last review date, reviews per month, calculated host listings count, and availability throughout the year.\n",
        "\n",
        "The goal of this analysis is to gain insights into the Airbnb market in New York City and provide valuable information to potential hosts and guests. This includes understanding the distribution of listings across different neighborhoods, analyzing the pricing trends, identifying popular room types, exploring the impact of host characteristics on listing performance, and assessing the availability of listings over time.\n",
        "\n",
        "**Specific objectives of the analysis may include:**\n",
        "\n",
        "* Exploratory Data Analysis (EDA) to understand the distribution and\n",
        "characteristics of Airbnb listings.\n",
        "* Price analysis to identify factors influencing listing prices and determine optimal pricing strategies.\n",
        "* Geographic analysis to visualize the spatial distribution of listings and identify popular neighborhoods.\n",
        "* Host analysis to examine the performance of hosts based on various metrics such as reviews and listing count.\n",
        "* Temporal analysis to assess trends in listing availability and booking patterns over time.\n",
        "* Recommendation analysis to suggest potential improvements or adjustments for hosts to enhance listing performance.\n",
        "\n",
        "By conducting this analysis, we aim to provide actionable insights that can inform decision-making for both hosts and guests in the New York City Airbnb market."
      ],
      "metadata": {
        "id": "DpeJGUA3kjGy"
      }
    },
    {
      "cell_type": "markdown",
      "source": [
        "#### **Define Your Business Objective?**"
      ],
      "metadata": {
        "id": "PH-0ReGfmX4f"
      }
    },
    {
      "cell_type": "markdown",
      "source": [
        "* Understand market dynamics and trends in the vacation rental industry.\n",
        "* Optimize pricing strategies based on factors like location, property type, and seasonality.\n",
        "* Enhance customer satisfaction by analyzing user reviews and identifying areas for improvement.\n",
        "* Identify new market opportunities through geographic analysis of Airbnb listings.\n",
        "* Benchmark performance against competitors to improve competitive positioning."
      ],
      "metadata": {
        "id": "PhDvGCAqmjP1"
      }
    },
    {
      "cell_type": "markdown",
      "source": [
        "# **General Guidelines** : -  "
      ],
      "metadata": {
        "id": "mDgbUHAGgjLW"
      }
    },
    {
      "cell_type": "markdown",
      "source": [
        "1.   Well-structured, formatted, and commented code is required.\n",
        "2.   Exception Handling, Production Grade Code & Deployment Ready Code will be a plus. Those students will be awarded some additional credits.\n",
        "     \n",
        "     The additional credits will have advantages over other students during Star Student selection.\n",
        "       \n",
        "             [ Note: - Deployment Ready Code is defined as, the whole .ipynb notebook should be executable in one go\n",
        "                       without a single error logged. ]\n",
        "\n",
        "3.   Each and every logic should have proper comments.\n",
        "4. You may add as many number of charts you want. Make Sure for each and every chart the following format should be answered.\n",
        "        \n",
        "\n",
        "```\n",
        "# Chart visualization code\n",
        "```\n",
        "            \n",
        "\n",
        "*   Why did you pick the specific chart?\n",
        "*   What is/are the insight(s) found from the chart?\n",
        "* Will the gained insights help creating a positive business impact?\n",
        "Are there any insights that lead to negative growth? Justify with specific reason.\n",
        "\n",
        "5. You have to create at least 20 logical & meaningful charts having important insights.\n",
        "\n",
        "\n",
        "[ Hints : - Do the Vizualization in  a structured way while following \"UBM\" Rule.\n",
        "\n",
        "U - Univariate Analysis,\n",
        "\n",
        "B - Bivariate Analysis (Numerical - Categorical, Numerical - Numerical, Categorical - Categorical)\n",
        "\n",
        "M - Multivariate Analysis\n",
        " ]\n",
        "\n",
        "\n",
        "\n"
      ],
      "metadata": {
        "id": "ZrxVaUj-hHfC"
      }
    },
    {
      "cell_type": "markdown",
      "source": [
        "# ***Let's Begin !***"
      ],
      "metadata": {
        "id": "O_i_v8NEhb9l"
      }
    },
    {
      "cell_type": "markdown",
      "source": [
        "## ***1. Know Your Data***"
      ],
      "metadata": {
        "id": "HhfV-JJviCcP"
      }
    },
    {
      "cell_type": "markdown",
      "source": [
        "### Import Libraries"
      ],
      "metadata": {
        "id": "Y3lxredqlCYt"
      }
    },
    {
      "cell_type": "code",
      "source": [
        "# Import Libraries\n",
        "\n",
        "import numpy as np\n",
        "import pandas as pd\n",
        "import matplotlib.pyplot as plt\n",
        "%matplotlib inline\n",
        "import seaborn as sns"
      ],
      "metadata": {
        "id": "M8Vqi-pPk-HR"
      },
      "execution_count": null,
      "outputs": []
    },
    {
      "cell_type": "markdown",
      "source": [
        "### Dataset Loading"
      ],
      "metadata": {
        "id": "3RnN4peoiCZX"
      }
    },
    {
      "cell_type": "code",
      "source": [
        "# Mount Drive\n",
        "\n",
        "from google.colab import drive\n",
        "drive.mount('/content/drive')"
      ],
      "metadata": {
        "id": "jnOW9g7M2Htm"
      },
      "execution_count": null,
      "outputs": []
    },
    {
      "cell_type": "code",
      "source": [
        "# Load Dataset\n",
        "path='/content/drive/MyDrive/Colab Notebooks/Airbnb NYC 2019.csv'\n",
        "airbnb_df=pd.read_csv(path)"
      ],
      "metadata": {
        "id": "4CkvbW_SlZ_R"
      },
      "execution_count": null,
      "outputs": []
    },
    {
      "cell_type": "code",
      "source": [
        "# Making copy of dataset for future use\n",
        "\n",
        "airbnbcopydf= airbnb_df.copy()"
      ],
      "metadata": {
        "id": "KKMlEu3uT2C8"
      },
      "execution_count": null,
      "outputs": []
    },
    {
      "cell_type": "markdown",
      "source": [
        "### Dataset First View"
      ],
      "metadata": {
        "id": "x71ZqKXriCWQ"
      }
    },
    {
      "cell_type": "code",
      "source": [
        "# Dataset First Look\n",
        "airbnb_df.head()"
      ],
      "metadata": {
        "id": "LWNFOSvLl09H"
      },
      "execution_count": null,
      "outputs": []
    },
    {
      "cell_type": "markdown",
      "source": [
        "### Dataset Rows & Columns count"
      ],
      "metadata": {
        "id": "7hBIi_osiCS2"
      }
    },
    {
      "cell_type": "code",
      "source": [
        "# Dataset Rows & Columns count\n",
        "\n",
        "airbnb_df.shape"
      ],
      "metadata": {
        "id": "Kllu7SJgmLij"
      },
      "execution_count": null,
      "outputs": []
    },
    {
      "cell_type": "markdown",
      "source": [
        "### Dataset Information"
      ],
      "metadata": {
        "id": "JlHwYmJAmNHm"
      }
    },
    {
      "cell_type": "code",
      "source": [
        "# Dataset Info\n",
        "\n",
        "airbnb_df.info()"
      ],
      "metadata": {
        "id": "e9hRXRi6meOf"
      },
      "execution_count": null,
      "outputs": []
    },
    {
      "cell_type": "markdown",
      "source": [
        "#### Duplicate Values"
      ],
      "metadata": {
        "id": "35m5QtbWiB9F"
      }
    },
    {
      "cell_type": "code",
      "source": [
        "# Dataset Duplicate Value Count\n",
        "\n",
        "airbnb_df.duplicated().sum()\n",
        "airbnb_df.drop_duplicates(inplace=True)\n",
        "airbnb_df.shape   #at this point looks like doesn't have duplicate values"
      ],
      "metadata": {
        "id": "1sLdpKYkmox0"
      },
      "execution_count": null,
      "outputs": []
    },
    {
      "cell_type": "markdown",
      "source": [
        "#### Missing Values/Null Values"
      ],
      "metadata": {
        "id": "PoPl-ycgm1ru"
      }
    },
    {
      "cell_type": "code",
      "source": [
        "# Missing Values/Null Values Count\n",
        "\n",
        "airbnb_df.isnull().sum()"
      ],
      "metadata": {
        "id": "GgHWkxvamxVg"
      },
      "execution_count": null,
      "outputs": []
    },
    {
      "cell_type": "code",
      "source": [
        "# Visualizing the missing values\n",
        "\n",
        "plt.figure(figsize=(14, 8))\n",
        "a=sns.heatmap(airbnb_df.isnull(),cmap='inferno', cbar=False)\n",
        "a.set_xticklabels(a.get_xticklabels(), rotation=45, horizontalalignment='right', fontsize=10)\n",
        "plt.title('Null Values in Airbnb Data')\n",
        "plt.xlabel('Column Names', weight='bold')\n",
        "plt.ylabel('Row Values', weight='bold')\n",
        "plt.show()"
      ],
      "metadata": {
        "id": "3q5wnI3om9sJ"
      },
      "execution_count": null,
      "outputs": []
    },
    {
      "cell_type": "markdown",
      "source": [
        "### What did you know about your dataset?"
      ],
      "metadata": {
        "id": "H0kj-8xxnORC"
      }
    },
    {
      "cell_type": "markdown",
      "source": [
        "**Exploring the Location Distribution:** By analyzing the distribution of Airbnb listings across various neighborhoods and neighborhood groups, valuable insights can be gained regarding the popularity of certain areas for rental properties.\n",
        "\n",
        "**Investigating Price Ranges:** A thorough examination of the price ranges for different types of accommodations (such as private rooms and entire homes/apartments) can provide a deep understanding of pricing trends in different neighborhoods and categories.\n",
        "\n",
        "**Delving into Availability:** Taking into account the availability of listings over the course of a year (represented by the availability_365 column) can reveal significant patterns in seasonal demand and general booking trends.\n",
        "\n",
        "**Uncovering Host Behaviors:** By investigating the distribution of hosts\n",
        "(through host_id and host_name columns) and their actions, we can gain valuable insights into their impact on the Airbnb rental market."
      ],
      "metadata": {
        "id": "gfoNAAC-nUe_"
      }
    },
    {
      "cell_type": "markdown",
      "source": [
        "## ***2. Understanding Your Variables***"
      ],
      "metadata": {
        "id": "nA9Y7ga8ng1Z"
      }
    },
    {
      "cell_type": "code",
      "source": [
        "# Dataset Columns\n",
        "\n",
        "airbnb_df.columns"
      ],
      "metadata": {
        "id": "j7xfkqrt5Ag5"
      },
      "execution_count": null,
      "outputs": []
    },
    {
      "cell_type": "code",
      "source": [
        "# Dataset Describe\n",
        "\n",
        "airbnb_df.describe()"
      ],
      "metadata": {
        "id": "DnOaZdaE5Q5t"
      },
      "execution_count": null,
      "outputs": []
    },
    {
      "cell_type": "markdown",
      "source": [
        "### Variables Description"
      ],
      "metadata": {
        "id": "PBTbrJXOngz2"
      }
    },
    {
      "cell_type": "markdown",
      "source": [
        "**UNDERSTAND THE GIVEN VARIABLES**\n",
        "\n",
        "**id:** Unique identifier for each listing.\n",
        "\n",
        "**name:** Name or title of the listing.\n",
        "\n",
        "**host_id:** Unique identifier for the host of the listing.\n",
        "\n",
        "**host_name:** Name of the host.\n",
        "\n",
        "**neighbourhood_group:** Group of neighborhoods where the listing is located.\n",
        "\n",
        "**neighbourhood:** Specific neighborhood where the listing is located.\n",
        "\n",
        "**latitude:** Latitude coordinate of the listing.\n",
        "\n",
        "**longitude:** Longitude coordinate of the listing.\n",
        "\n",
        "**room_type:** Type of room being listed (e.g., Private room, Entire home/apt).\n",
        "\n",
        "**price:** Price of the listing per night.\n",
        "\n",
        "**minimum_nights:** Minimum number of nights required for booking.\n",
        "\n",
        "**number_of_reviews:** Total number of reviews received for the listing.\n",
        "\n",
        "**last_review:** Date of the last review for the listing.\n",
        "\n",
        "**reviews_per_month:** Average number of reviews received per month.\n",
        "\n",
        "**calculated_host_listings_count:** Number of listings owned by the host.\n",
        "\n",
        "**availability_365:** Number of days the listing is available for booking in a year.\n"
      ],
      "metadata": {
        "id": "3Rt6nFdXIinf"
      }
    },
    {
      "cell_type": "markdown",
      "source": [
        "### Check Unique Values for each variable."
      ],
      "metadata": {
        "id": "u3PMJOP6ngxN"
      }
    },
    {
      "cell_type": "code",
      "source": [
        "# Check Unique Values for each variable.\n",
        "\n",
        "airbnb_df.nunique()"
      ],
      "metadata": {
        "id": "zms12Yq5n-jE"
      },
      "execution_count": null,
      "outputs": []
    },
    {
      "cell_type": "markdown",
      "source": [
        "## 3. ***Data Wrangling***"
      ],
      "metadata": {
        "id": "dauF4eBmngu3"
      }
    },
    {
      "cell_type": "markdown",
      "source": [
        "### Data Wrangling Code"
      ],
      "metadata": {
        "id": "bKJF3rekwFvQ"
      }
    },
    {
      "cell_type": "code",
      "source": [
        "#We see that column Last_review type is object. Hence we convert it into datetime format.\n",
        "\n",
        "airbnb_df[\"last_review\"] = pd.to_datetime(airbnb_df[\"last_review\"])\n",
        "airbnb_df.dtypes"
      ],
      "metadata": {
        "id": "wk-9a2fpoLcV"
      },
      "execution_count": null,
      "outputs": []
    },
    {
      "cell_type": "code",
      "source": [
        "# Removing the null values from dataset\n",
        "\n",
        "airbnb_df=airbnb_df.dropna(subset=['name','host_name'])\n",
        "airbnb_df.isna().sum()"
      ],
      "metadata": {
        "id": "feNSK7GaPu2s"
      },
      "execution_count": null,
      "outputs": []
    },
    {
      "cell_type": "code",
      "source": [
        "# Replacing the null reviews_per_month and dates\n",
        "\n",
        "airbnb_df= airbnb_df.fillna(airbnb_df['reviews_per_month'].mean())\n",
        "airbnb_df['last_review'].fillna(method='ffill', inplace=True)\n",
        "\n",
        "airbnb_df.isnull().sum() #null values updated"
      ],
      "metadata": {
        "id": "owmKGmTLPutk"
      },
      "execution_count": null,
      "outputs": []
    },
    {
      "cell_type": "code",
      "source": [
        "# Changing the names of columns for better understanding\n",
        "\n",
        "airbnb_df.rename(columns = {'neighbourhood_group':'city','last_review':'dates'},inplace=True)"
      ],
      "metadata": {
        "id": "TA8yWQ2vSvAH"
      },
      "execution_count": null,
      "outputs": []
    },
    {
      "cell_type": "code",
      "source": [
        "airbnb_df.dtypes"
      ],
      "metadata": {
        "id": "eAWOrvBzlkAc"
      },
      "execution_count": null,
      "outputs": []
    },
    {
      "cell_type": "code",
      "source": [
        "#examing all changes\n",
        "\n",
        "airbnb_df.head(10)"
      ],
      "metadata": {
        "id": "jQwg-uegZ3RC"
      },
      "execution_count": null,
      "outputs": []
    },
    {
      "cell_type": "markdown",
      "source": [
        "### What all manipulations have you done and insights you found?"
      ],
      "metadata": {
        "id": "MSa1f5Uengrz"
      }
    },
    {
      "cell_type": "markdown",
      "source": [
        "The provided code manipulates the Airbnb dataset as follows:\n",
        "\n",
        "1. **Data Type Conversion**: Converts the `last_review` column to datetime format.\n",
        "2. **Removing Null Values**: Drops rows with null values in `name` and `host_name`.\n",
        "3. **Replacing Null Values**: Fills null values in `reviews_per_month` with the mean, and fills null values in `dates` using forward filling.\n",
        "4. **Column Renaming**: Renames columns for better clarity (`neighbourhood_group` to `city`, `last_review` to `dates`).\n",
        "\n",
        "Insights:\n",
        "- Preparation for temporal analysis by converting dates.\n",
        "- Ensuring data integrity by removing and replacing null values.\n",
        "- Enhancing readability by renaming columns for better understanding.\n",
        "- Further analysis can now focus on pricing trends, popularity of listings, and booking patterns."
      ],
      "metadata": {
        "id": "LbyXE7I1olp8"
      }
    },
    {
      "cell_type": "markdown",
      "source": [
        "## ***4. Data Vizualization, Storytelling & Experimenting with charts : Understand the relationships between variables***"
      ],
      "metadata": {
        "id": "GF8Ens_Soomf"
      }
    },
    {
      "cell_type": "markdown",
      "source": [
        "#### Chart - 1"
      ],
      "metadata": {
        "id": "m50w7IV1logI"
      }
    },
    {
      "cell_type": "markdown",
      "source": [
        "##### Number Of Active Hosts Per Location Using Pie Chart"
      ],
      "metadata": {
        "id": "3r61-iz2lRks"
      }
    },
    {
      "cell_type": "code",
      "source": [
        "# create a new DataFrame that displays the number of hosts in each states in the Airbnbdf dataset\n",
        "hosts_per_location = airbnb_df.groupby('city')['host_id'].count().reset_index()\n",
        "\n",
        "# display the resulting DataFrame\n",
        "hosts_per_location"
      ],
      "metadata": {
        "id": "7v_ESjsspbW7"
      },
      "execution_count": null,
      "outputs": []
    },
    {
      "cell_type": "code",
      "source": [
        "# Group the data by city and count the number of listings for each group\n",
        "hosts_per_location = airbnb_df.groupby('city')['host_id'].count()\n",
        "\n",
        "# Get the list of city names\n",
        "locations = hosts_per_location.index\n",
        "\n",
        "# Get the list of host counts for each city\n",
        "host_counts = hosts_per_location.values\n",
        "\n",
        "# Set the figure size\n",
        "plt.figure(figsize=(7, 7))  # Adjust the figure size for better visualization\n",
        "\n",
        "# Create the pie chart\n",
        "plt.pie(host_counts, labels=locations, autopct='%1.1f%%', startangle=140, wedgeprops = {\"edgecolor\" : \"black\",'linewidth': 1})\n",
        "\n",
        "# Add a title\n",
        "plt.title('Distribution of Active Hosts by Location', fontsize=15, color='darkgreen')\n",
        "\n",
        "# Show the plot\n",
        "plt.show()"
      ],
      "metadata": {
        "id": "Ys9r19D_ijYo"
      },
      "execution_count": null,
      "outputs": []
    },
    {
      "cell_type": "markdown",
      "source": [
        "##### 1. Why did you pick the specific chart?"
      ],
      "metadata": {
        "id": "K5QZ13OEpz2H"
      }
    },
    {
      "cell_type": "markdown",
      "source": [
        "Pie charts effectively display proportions of categorical data, making them suitable for illustrating the distribution of active hosts among different neighbourhood groups."
      ],
      "metadata": {
        "id": "XESiWehPqBRc"
      }
    },
    {
      "cell_type": "markdown",
      "source": [
        "##### 2. What is/are the insight(s) found from the chart?"
      ],
      "metadata": {
        "id": "lQ7QKXXCp7Bj"
      }
    },
    {
      "cell_type": "markdown",
      "source": [
        "The chart provides a clear visual representation of the distribution of active hosts across various neighbourhood groups, allowing easy comparison of host counts between different areas."
      ],
      "metadata": {
        "id": "C_j1G7yiqdRP"
      }
    },
    {
      "cell_type": "markdown",
      "source": [
        "##### 3. Will the gained insights help creating a positive business impact?\n",
        "Are there any insights that lead to negative growth? Justify with specific reason."
      ],
      "metadata": {
        "id": "448CDAPjqfQr"
      }
    },
    {
      "cell_type": "markdown",
      "source": [
        "**Positive impact:** Guides marketing and resource allocation.\n",
        "Targeted efforts can boost bookings and revenue.\n",
        "Balancing growth ensures fair competition.\n",
        "\n",
        "**Negative growth:** Oversaturation may reduce profitability. Underserved areas limit market reach."
      ],
      "metadata": {
        "id": "3cspy4FjqxJW"
      }
    },
    {
      "cell_type": "markdown",
      "source": [
        "#### Chart - 2"
      ],
      "metadata": {
        "id": "KSlN3yHqYklG"
      }
    },
    {
      "cell_type": "markdown",
      "source": [
        "#####Relation between states and availability on the basis of room type."
      ],
      "metadata": {
        "id": "Hxt3Sngnl1SM"
      }
    },
    {
      "cell_type": "code",
      "source": [
        "# Filter out outliers from the 'minimum_nights' column\n",
        "lower_bound = airbnb_df['price'].quantile(0.25)\n",
        "upper_bound = airbnb_df['price'].quantile(0.75)\n",
        "a= airbnb_df[(airbnb_df['price'] >= lower_bound) & (airbnb_df['price'] <= upper_bound)]\n",
        "\n",
        "plt.figure(figsize=(13,6))\n",
        "sns.barplot(data=a, x='city', y='price',hue='room_type')\n",
        "plt.xlabel('City', weight='bold')\n",
        "plt.ylabel('Price',weight='bold')\n",
        "plt.show()"
      ],
      "metadata": {
        "id": "R4YgtaqtYklH"
      },
      "execution_count": null,
      "outputs": []
    },
    {
      "cell_type": "markdown",
      "source": [
        "##### 1. Why did you pick the specific chart?"
      ],
      "metadata": {
        "id": "t6dVpIINYklI"
      }
    },
    {
      "cell_type": "markdown",
      "source": [
        "Bar plot effectively compares price distribution across states and room types."
      ],
      "metadata": {
        "id": "5aaW0BYyYklI"
      }
    },
    {
      "cell_type": "markdown",
      "source": [
        "##### 2. What is/are the insight(s) found from the chart?"
      ],
      "metadata": {
        "id": "ijmpgYnKYklI"
      }
    },
    {
      "cell_type": "markdown",
      "source": [
        "Easily identifies price differences among states and room types, allowing for targeted analysis."
      ],
      "metadata": {
        "id": "PSx9atu2YklI"
      }
    },
    {
      "cell_type": "markdown",
      "source": [
        "##### 3. Will the gained insights help creating a positive business impact?\n",
        "Are there any insights that lead to negative growth? Justify with specific reason."
      ],
      "metadata": {
        "id": "-JiQyfWJYklI"
      }
    },
    {
      "cell_type": "markdown",
      "source": [
        "**Positive impact:** Helps tailor pricing strategies and marketing efforts to maximize revenue.Understanding price distribution informs pricing adjustments for competitive advantage.\n",
        "\n",
        "**Negative growth considerations:** Overpricing in certain states or room types may deter potential guests, leading to reduced bookings and revenue. Adjustments may be needed to ensure competitiveness and guest satisfaction."
      ],
      "metadata": {
        "id": "BcBbebzrYklV"
      }
    },
    {
      "cell_type": "markdown",
      "source": [
        "#### Chart - 3"
      ],
      "metadata": {
        "id": "EM7whBJCYoAo"
      }
    },
    {
      "cell_type": "markdown",
      "source": [
        "#####Top ten Highest listing city."
      ],
      "metadata": {
        "id": "StzpBK3cm5Ki"
      }
    },
    {
      "cell_type": "code",
      "source": [
        "# find listing value of all neighourhood in dataset\n",
        "neighour=airbnb_df['city'].value_counts().sort_values(ascending=False).reset_index()\n",
        "\n",
        "#top ten neighourhood with listing value\n",
        "top_10=neighour[:10]\n",
        "top_10"
      ],
      "metadata": {
        "id": "t6GMdE67YoAp"
      },
      "execution_count": null,
      "outputs": []
    },
    {
      "cell_type": "code",
      "source": [
        "#make copy of top_10\n",
        "final_10=top_10.copy()\n",
        "\n",
        "#rename that dataframe\n",
        "final_10.rename(columns={'index':'city','city':'listing_value' },inplace=True)\n",
        "final_10"
      ],
      "metadata": {
        "id": "0TM_D1i-nPl5"
      },
      "execution_count": null,
      "outputs": []
    },
    {
      "cell_type": "code",
      "source": [
        "# Plotting the Chart\n",
        "abc = sns.barplot(x='city', y='listing_value', hue='city', data=final_10, palette='Set3')\n",
        "abc.set_title('Finding the total number of nights spent per location', fontweight='bold')\n",
        "\n",
        "# Naming X & Y axis\n",
        "abc.set_ylabel('Listing value', weight='bold')\n",
        "abc.set_xlabel('City', fontweight='bold')\n",
        "\n",
        "# Rotate the x-axis tick labels\n",
        "abc.tick_params(axis='x', labelrotation=45)\n",
        "\n",
        "# Show the plot\n",
        "plt.show()"
      ],
      "metadata": {
        "id": "B2v4DS1ZnTTB"
      },
      "execution_count": null,
      "outputs": []
    },
    {
      "cell_type": "markdown",
      "source": [
        "##### 1. Why did you pick the specific chart?"
      ],
      "metadata": {
        "id": "fge-S5ZAYoAp"
      }
    },
    {
      "cell_type": "markdown",
      "source": [
        "Bar plot effectively displays listing values across neighbourhoods, allowing for easy comparison."
      ],
      "metadata": {
        "id": "5dBItgRVYoAp"
      }
    },
    {
      "cell_type": "markdown",
      "source": [
        "##### 2. What is/are the insight(s) found from the chart?"
      ],
      "metadata": {
        "id": "85gYPyotYoAp"
      }
    },
    {
      "cell_type": "markdown",
      "source": [
        "Clearly identifies the top ten neighbourhoods with the highest listing values, providing insight into areas of high demand or popularity."
      ],
      "metadata": {
        "id": "4jstXR6OYoAp"
      }
    },
    {
      "cell_type": "markdown",
      "source": [
        "##### 3. Will the gained insights help creating a positive business impact?\n",
        "Are there any insights that lead to negative growth? Justify with specific reason."
      ],
      "metadata": {
        "id": "RoGjAbkUYoAp"
      }
    },
    {
      "cell_type": "markdown",
      "source": [
        "**Positive impact:** Helps prioritize marketing efforts and resource allocation to high-value neighbourhoods, potentially increasing revenue and occupancy rates.\n",
        "\n",
        "**Negative growth considerations:** Overemphasis on high-value neighbourhoods may neglect opportunities in other areas, leading to potential underutilization of listings and missed revenue potential. Adjustments may be necessary to ensure a balanced distribution of resources and maximize overall business growth."
      ],
      "metadata": {
        "id": "zfJ8IqMcYoAp"
      }
    },
    {
      "cell_type": "markdown",
      "source": [
        "#### Chart - 4"
      ],
      "metadata": {
        "id": "4Of9eVA-YrdM"
      }
    },
    {
      "cell_type": "markdown",
      "source": [
        "#####Top city in entire NYC on the basis of count of listings"
      ],
      "metadata": {
        "id": "u53mugOouAvd"
      }
    },
    {
      "cell_type": "code",
      "source": [
        "# Extracting the top 20 cities based on the number of listings in entire NYC\n",
        "top_20_neigbours = airbnb_df['city'].value_counts()[:20]\n",
        "\n",
        "# Defining custom colors for the bar plot\n",
        "colors = ['blue', 'green', 'red', 'purple', 'orange', 'pink', 'brown', 'gray', 'cyan', 'magenta',\n",
        "          'lightblue', 'lightgreen', 'lightcoral', 'lightgray', 'lightyellow', 'lightpink', 'black', 'yellow', 'lightcyan']\n",
        "\n",
        "# Plotting the bar plot\n",
        "top = top_20_neigbours.plot(kind='bar', color=colors)\n",
        "\n",
        "# Setting x-axis tick labels with rotation and formatting\n",
        "top.set_xticklabels(top_20_neigbours.index, fontweight='bold', rotation=45, horizontalalignment='right', fontsize=10)\n",
        "\n",
        "# Labeling x-axis and y-axis\n",
        "plt.xlabel('City', weight='bold')\n",
        "plt.ylabel('Counts in entire NYC', weight='bold')\n",
        "\n",
        "# Adding title to the plot\n",
        "plt.title('Top city in entire NYC on the basis of count of listings', weight='bold')\n",
        "\n",
        "# Adjusting the figure size\n",
        "plt.figure(figsize=(19, 10))"
      ],
      "metadata": {
        "id": "irlUoxc8YrdO"
      },
      "execution_count": null,
      "outputs": []
    },
    {
      "cell_type": "markdown",
      "source": [
        "##### 1. Why did you pick the specific chart?"
      ],
      "metadata": {
        "id": "iky9q4vBYrdO"
      }
    },
    {
      "cell_type": "markdown",
      "source": [
        "The specific chart, a bar plot, was chosen to visualize the top 20 cities in NYC based on the number of listings. A bar plot effectively represents categorical data and allows for easy comparison of counts between different cities."
      ],
      "metadata": {
        "id": "aJRCwT6DYrdO"
      }
    },
    {
      "cell_type": "markdown",
      "source": [
        "##### 2. What is/are the insight(s) found from the chart?"
      ],
      "metadata": {
        "id": "F6T5p64dYrdO"
      }
    },
    {
      "cell_type": "markdown",
      "source": [
        "The chart provides insights into the distribution of listings among the top cities in NYC. It clearly shows which cities have the highest number of listings, allowing stakeholders to identify popular areas for Airbnb rentals."
      ],
      "metadata": {
        "id": "Xx8WAJvtYrdO"
      }
    },
    {
      "cell_type": "markdown",
      "source": [
        "##### 3. Will the gained insights help creating a positive business impact?\n",
        "Are there any insights that lead to negative growth? Justify with specific reason."
      ],
      "metadata": {
        "id": "y-Ehk30pYrdP"
      }
    },
    {
      "cell_type": "markdown",
      "source": [
        "The gained insights can potentially lead to positive business impacts by helping stakeholders make informed decisions."
      ],
      "metadata": {
        "id": "jLNxxz7MYrdP"
      }
    },
    {
      "cell_type": "markdown",
      "source": [
        "#### Chart - 5"
      ],
      "metadata": {
        "id": "bamQiAODYuh1"
      }
    },
    {
      "cell_type": "markdown",
      "source": [
        "#####Total no. of nights spend per room types"
      ],
      "metadata": {
        "id": "bQRCaj8_yubQ"
      }
    },
    {
      "cell_type": "code",
      "source": [
        "# find unique value of room types\n",
        "list(airbnb_df['room_type'].unique())"
      ],
      "metadata": {
        "id": "TIJwrbroYuh3"
      },
      "execution_count": null,
      "outputs": []
    },
    {
      "cell_type": "code",
      "source": [
        "# find the maximum(minimum nights) spending by customer across different room type\n",
        "total_room=airbnb_df.groupby('room_type')['minimum_nights'].sum().reset_index()\n",
        "room_types=total_room.sort_values('minimum_nights',ascending=True)\n",
        "room_types.head()"
      ],
      "metadata": {
        "id": "u7uzqkTtyzJi"
      },
      "execution_count": null,
      "outputs": []
    },
    {
      "cell_type": "code",
      "source": [
        "# create dataset\n",
        "plt.figure(figsize=(15,7))\n",
        "labels=list(room_types['room_type'])\n",
        "sizes=list(room_types['minimum_nights'])\n",
        "\n",
        "# create explode\n",
        "explode = (0.05,0.05,0.05)\n",
        "\n",
        "#creating pie chart\n",
        "plt.pie(sizes,explode=explode,labels=labels,autopct='%1.2f%%',shadow=True)\n",
        "plt.title('Total no. of minimum nights spend per room types', fontsize=20)\n",
        "plt.axis('scaled')\n",
        "plt.show()"
      ],
      "metadata": {
        "id": "-l4Ef-FXy7JU"
      },
      "execution_count": null,
      "outputs": []
    },
    {
      "cell_type": "markdown",
      "source": [
        "##### 1. Why did you pick the specific chart?"
      ],
      "metadata": {
        "id": "QHF8YVU7Yuh3"
      }
    },
    {
      "cell_type": "markdown",
      "source": [
        "Answer Here."
      ],
      "metadata": {
        "id": "dcxuIMRPYuh3"
      }
    },
    {
      "cell_type": "markdown",
      "source": [
        "##### 2. What is/are the insight(s) found from the chart?"
      ],
      "metadata": {
        "id": "GwzvFGzlYuh3"
      }
    },
    {
      "cell_type": "markdown",
      "source": [
        "Answer Here"
      ],
      "metadata": {
        "id": "uyqkiB8YYuh3"
      }
    },
    {
      "cell_type": "markdown",
      "source": [
        "##### 3. Will the gained insights help creating a positive business impact?\n",
        "Are there any insights that lead to negative growth? Justify with specific reason."
      ],
      "metadata": {
        "id": "qYpmQ266Yuh3"
      }
    },
    {
      "cell_type": "markdown",
      "source": [
        "Answer Here"
      ],
      "metadata": {
        "id": "_WtzZ_hCYuh4"
      }
    },
    {
      "cell_type": "markdown",
      "source": [
        "#### Chart - 6"
      ],
      "metadata": {
        "id": "OH-pJp9IphqM"
      }
    },
    {
      "cell_type": "markdown",
      "source": [
        "#####Total percentage and no. of booking in states."
      ],
      "metadata": {
        "id": "a_AkNPPRO0Mm"
      }
    },
    {
      "cell_type": "code",
      "source": [
        "# Creating subplots with 1 row and 2 columns, setting the figure size\n",
        "fig, axes = plt.subplots(nrows=1, ncols=2, figsize=(6, 22))\n",
        "ax = axes.flatten()\n",
        "\n",
        "# Pie chart for total percentage of bookings by City\n",
        "no_of_booking_neighbourhood_group = airbnb_df[\"city\"].value_counts()\n",
        "no_of_booking_neighbourhood_group.plot.pie(autopct='%1.2f%%', ylabel=\"\", figsize=(8,8), ax=ax[0])\n",
        "ax[0].set_title('Total % of booking by city', fontsize=12)  # Setting title for the pie chart\n",
        "\n",
        "# Bar plot for total bookings by city\n",
        "airbnb_df['city'].value_counts().plot(kind='bar', figsize=(15,6), color=['r','b','y','g','m'], ax=ax[1])\n",
        "ax[1].set_title('Total no. of booking by city', fontsize=12)  # Setting title for the bar plot\n",
        "\n",
        "# Display the plot\n",
        "plt.show()"
      ],
      "metadata": {
        "id": "kuRf4wtuphqN"
      },
      "execution_count": null,
      "outputs": []
    },
    {
      "cell_type": "markdown",
      "source": [
        "##### 1. Why did you pick the specific chart?"
      ],
      "metadata": {
        "id": "bbFf2-_FphqN"
      }
    },
    {
      "cell_type": "markdown",
      "source": [
        "The specific chart, which consists of a pie chart and a bar plot, was chosen to visualize the distribution of bookings across different states in the dataset."
      ],
      "metadata": {
        "id": "loh7H2nzphqN"
      }
    },
    {
      "cell_type": "markdown",
      "source": [
        "##### 2. What is/are the insight(s) found from the chart?"
      ],
      "metadata": {
        "id": "_ouA3fa0phqN"
      }
    },
    {
      "cell_type": "markdown",
      "source": [
        "The pie chart shows the percentage distribution of bookings among different states.\n",
        "The bar plot provides a comparison of the total number of bookings across states."
      ],
      "metadata": {
        "id": "VECbqPI7phqN"
      }
    },
    {
      "cell_type": "markdown",
      "source": [
        "##### 3. Will the gained insights help creating a positive business impact?\n",
        "Are there any insights that lead to negative growth? Justify with specific reason."
      ],
      "metadata": {
        "id": "Seke61FWphqN"
      }
    },
    {
      "cell_type": "markdown",
      "source": [
        "Helps target marketing efforts and identify areas for improvement."
      ],
      "metadata": {
        "id": "DW4_bGpfphqN"
      }
    },
    {
      "cell_type": "markdown",
      "source": [
        "#### Chart - 7"
      ],
      "metadata": {
        "id": "PIIx-8_IphqN"
      }
    },
    {
      "cell_type": "markdown",
      "source": [
        "#####Visualization of each states using latitude and longitude."
      ],
      "metadata": {
        "id": "Z2tkQQ29O4Nu"
      }
    },
    {
      "cell_type": "code",
      "source": [
        "plt.figure(figsize=(15,7))\n",
        "sns.scatterplot(x=airbnb_df['longitude'],y=airbnb_df['latitude'],hue=airbnb_df['city'], palette='dark')\n",
        "plt.xlabel('Longitude',weight='bold')\n",
        "plt.ylabel('Latitude',fontweight='bold')\n",
        "plt.show()\n"
      ],
      "metadata": {
        "id": "lqAIGUfyphqO"
      },
      "execution_count": null,
      "outputs": []
    },
    {
      "cell_type": "code",
      "source": [
        "# Let's observe the type of room_types\n",
        "\n",
        "plt.figure(figsize=(15,7))\n",
        "sns.scatterplot(x=airbnb_df['longitude'],y=airbnb_df['latitude'],hue=airbnb_df['room_type'],palette='hls')\n",
        "plt.xlabel('Longitude',weight='bold')\n",
        "plt.ylabel('Latitude',fontweight='bold')\n",
        "plt.title('Geographical location of various room types available')\n",
        "plt.show()\n"
      ],
      "metadata": {
        "id": "Dysc6h3JaZMM"
      },
      "execution_count": null,
      "outputs": []
    },
    {
      "cell_type": "markdown",
      "source": [
        "##### 1. Why did you pick the specific chart?"
      ],
      "metadata": {
        "id": "t27r6nlMphqO"
      }
    },
    {
      "cell_type": "markdown",
      "source": [
        "Scatterplots were chosen for their effectiveness in displaying geographical distributions based on latitude and longitude."
      ],
      "metadata": {
        "id": "iv6ro40sphqO"
      }
    },
    {
      "cell_type": "markdown",
      "source": [
        "##### 2. What is/are the insight(s) found from the chart?"
      ],
      "metadata": {
        "id": "r2jJGEOYphqO"
      }
    },
    {
      "cell_type": "markdown",
      "source": [
        "Insights show the distribution of Airbnb listings across states and the distribution of room types within those locations."
      ],
      "metadata": {
        "id": "Po6ZPi4hphqO"
      }
    },
    {
      "cell_type": "markdown",
      "source": [
        "##### 3. Will the gained insights help creating a positive business impact?\n",
        "Are there any insights that lead to negative growth? Justify with specific reason."
      ],
      "metadata": {
        "id": "b0JNsNcRphqO"
      }
    },
    {
      "cell_type": "markdown",
      "source": [
        "Yes, these insights can positively impact business strategies such as marketing, pricing, and resource allocation.\n",
        "\n",
        "Negative growth insights could result from having too many listings in some areas or offering room types that don't match the desirability of their locations, which can affect guest preferences and bookings negatively."
      ],
      "metadata": {
        "id": "xvSq8iUTphqO"
      }
    },
    {
      "cell_type": "markdown",
      "source": [
        "#### Chart - 8"
      ],
      "metadata": {
        "id": "BZR9WyysphqO"
      }
    },
    {
      "cell_type": "markdown",
      "source": [
        "######Average availability of listings over time"
      ],
      "metadata": {
        "id": "DvuiTgSNPA0k"
      }
    },
    {
      "cell_type": "code",
      "source": [
        "# Calculate average price by City\n",
        "avg_price_neighbourhood = airbnb_df.groupby('city')['price'].mean().reset_index()\n",
        "\n",
        "# Plot the line graph\n",
        "plt.figure(figsize=(10, 6))\n",
        "sns.lineplot(data=avg_price_neighbourhood, x='city', y='price', marker='^', ms=10, mew=3, mec='orange')\n",
        "plt.xlabel('City')\n",
        "plt.ylabel('Average Price ($)')\n",
        "plt.title('Average Price of Listings by City')\n",
        "plt.xticks(rotation=45)\n",
        "plt.grid(True)\n",
        "plt.tight_layout()\n",
        "plt.show()"
      ],
      "metadata": {
        "id": "TdPTWpAVphqO"
      },
      "execution_count": null,
      "outputs": []
    },
    {
      "cell_type": "markdown",
      "source": [
        "##### 1. Why did you pick the specific chart?"
      ],
      "metadata": {
        "id": "jj7wYXLtphqO"
      }
    },
    {
      "cell_type": "markdown",
      "source": [
        "The specific chart chosen is a line plot because it effectively illustrates the trend of average prices across different neighbourhood groups over time. Line plots are suitable for showing trends and changes in data over continuous categories."
      ],
      "metadata": {
        "id": "Ob8u6rCTphqO"
      }
    },
    {
      "cell_type": "markdown",
      "source": [
        "##### 2. What is/are the insight(s) found from the chart?"
      ],
      "metadata": {
        "id": "eZrbJ2SmphqO"
      }
    },
    {
      "cell_type": "markdown",
      "source": [
        "The insight from the chart is that there are variations in average prices among different neighbourhood groups. Some neighbourhood groups tend to have higher average prices, while others have lower average prices."
      ],
      "metadata": {
        "id": "mZtgC_hjphqO"
      }
    },
    {
      "cell_type": "markdown",
      "source": [
        "##### 3. Will the gained insights help creating a positive business impact?\n",
        "Are there any insights that lead to negative growth? Justify with specific reason."
      ],
      "metadata": {
        "id": "rFu4xreNphqO"
      }
    },
    {
      "cell_type": "markdown",
      "source": [
        "Yes, the gained insights can help create a positive business impact. By understanding the average prices in different neighbourhood groups, businesses can tailor their pricing strategies and marketing efforts to target specific demographics and areas."
      ],
      "metadata": {
        "id": "ey_0qi68phqO"
      }
    },
    {
      "cell_type": "markdown",
      "source": [
        "#### Chart - 9"
      ],
      "metadata": {
        "id": "YJ55k-q6phqO"
      }
    },
    {
      "cell_type": "markdown",
      "source": [
        "######Distribution of prices for different room types in the dataset"
      ],
      "metadata": {
        "id": "EYl9FE55PF_E"
      }
    },
    {
      "cell_type": "code",
      "source": [
        "# Define function to remove outliers using IQR method\n",
        "def remove_outliers(df, column):\n",
        "    Q1 = df[column].quantile(0.25)\n",
        "    Q3 = df[column].quantile(0.75)\n",
        "    IQR = Q3 - Q1\n",
        "    lower_bound = Q1 - 1.5 * IQR\n",
        "    upper_bound = Q3 + 1.5 * IQR\n",
        "    df_filtered = df[(df[column] >= lower_bound) & (df[column] <= upper_bound)]\n",
        "    return df_filtered\n",
        "\n",
        "# Remove outliers from price column for each room type\n",
        "airbnb_df_filtered = airbnb_df.groupby('room_type').apply(remove_outliers, column='price').reset_index(drop=True)\n",
        "\n",
        "# Plotting the box plot after removing outliers\n",
        "plt.figure(figsize=(10, 6))\n",
        "sns.boxplot(data=airbnb_df_filtered, x='room_type', y='price', hue='room_type', palette='dark', legend=False)\n",
        "plt.xlabel('Room Type')\n",
        "plt.ylabel('Price ($)')\n",
        "plt.title('Distribution of Prices by Room Type (Without Outliers)')\n",
        "plt.tight_layout()\n",
        "plt.show()"
      ],
      "metadata": {
        "id": "B2aS4O1ophqO"
      },
      "execution_count": null,
      "outputs": []
    },
    {
      "cell_type": "markdown",
      "source": [
        "##### 1. Why did you pick the specific chart?"
      ],
      "metadata": {
        "id": "gCFgpxoyphqP"
      }
    },
    {
      "cell_type": "markdown",
      "source": [
        "The specific chart chosen is a box plot because it effectively displays the distribution of prices for different room types, allowing for easy comparison of central tendency, variability, and presence of outliers across categories."
      ],
      "metadata": {
        "id": "TVxDimi2phqP"
      }
    },
    {
      "cell_type": "markdown",
      "source": [
        "##### 2. What is/are the insight(s) found from the chart?"
      ],
      "metadata": {
        "id": "OVtJsKN_phqQ"
      }
    },
    {
      "cell_type": "markdown",
      "source": [
        "Insights from the chart:\n",
        "* The median price for entire home/apartment listings tends to be higher\n",
        "compared to private rooms and shared rooms.\n",
        "* Shared rooms generally have lower price ranges and fewer outliers compared to entire home/apartment listings.\n",
        "* Private rooms have a wider range of prices, with some high-priced outliers."
      ],
      "metadata": {
        "id": "ngGi97qjphqQ"
      }
    },
    {
      "cell_type": "markdown",
      "source": [
        "##### 3. Will the gained insights help creating a positive business impact?\n",
        "Are there any insights that lead to negative growth? Justify with specific reason."
      ],
      "metadata": {
        "id": "lssrdh5qphqQ"
      }
    },
    {
      "cell_type": "markdown",
      "source": [
        "* These insights can inform pricing strategies and marketing efforts, potentially leading to positive business outcomes.\n",
        "* High-priced outliers in certain room types may indicate pricing issues that could negatively impact growth."
      ],
      "metadata": {
        "id": "tBpY5ekJphqQ"
      }
    },
    {
      "cell_type": "markdown",
      "source": [
        "#### Chart - 10"
      ],
      "metadata": {
        "id": "U2RJ9gkRphqQ"
      }
    },
    {
      "cell_type": "markdown",
      "source": [
        "#####Visualizing the distribution of listings in each price group"
      ],
      "metadata": {
        "id": "9bsNOzivQNcO"
      }
    },
    {
      "cell_type": "code",
      "source": [
        "# Define function to categorize prices into groups\n",
        "def categorize_price(price):\n",
        "    if price <= 100:\n",
        "        return 'Low'\n",
        "    elif price <= 200:\n",
        "        return 'Medium'\n",
        "    else:\n",
        "        return 'High'\n",
        "\n",
        "# Apply the function to create the new column 'price_group'\n",
        "airbnb_df['price_group'] = airbnb_df['price'].apply(categorize_price)\n",
        "\n",
        "# Plotting the bar chart with corrected usage of hue parameter\n",
        "plt.figure(figsize=(8, 6))\n",
        "sns.countplot(data=airbnb_df, x='price_group', hue='price_group', palette='Set2', legend=False)\n",
        "plt.xlabel('Price Group')\n",
        "plt.ylabel('Number of Listings')\n",
        "plt.title('Count of Listings in Each Price Group')\n",
        "plt.show()"
      ],
      "metadata": {
        "id": "GM7a4YP4phqQ"
      },
      "execution_count": null,
      "outputs": []
    },
    {
      "cell_type": "markdown",
      "source": [
        "##### 1. Why did you pick the specific chart?"
      ],
      "metadata": {
        "id": "1M8mcRywphqQ"
      }
    },
    {
      "cell_type": "markdown",
      "source": [
        "The specific chart chosen is a countplot because it effectively shows the distribution of listings across different price groups, allowing for easy comparison."
      ],
      "metadata": {
        "id": "8agQvks0phqQ"
      }
    },
    {
      "cell_type": "markdown",
      "source": [
        "##### 2. What is/are the insight(s) found from the chart?"
      ],
      "metadata": {
        "id": "tgIPom80phqQ"
      }
    },
    {
      "cell_type": "markdown",
      "source": [
        "The insight from the chart is the distribution of listings categorized into low, medium, and high price groups. This provides a clear understanding of how listings are distributed based on their price range."
      ],
      "metadata": {
        "id": "Qp13pnNzphqQ"
      }
    },
    {
      "cell_type": "markdown",
      "source": [
        "##### 3. Will the gained insights help creating a positive business impact?\n",
        "Are there any insights that lead to negative growth? Justify with specific reason."
      ],
      "metadata": {
        "id": "JMzcOPDDphqR"
      }
    },
    {
      "cell_type": "markdown",
      "source": [
        "* The gained insights can potentially help in creating a positive business impact by informing pricing strategies and marketing efforts. For example, understanding the distribution of listings in different price groups can help in targeting specific customer segments and optimizing pricing strategies to maximize revenue.\n",
        "\n",
        "\n",
        "* There are no insights in the chart that directly lead to negative growth. However, if there is an imbalance in the distribution of listings across price groups, it could indicate potential areas where the business may need to adjust pricing or marketing strategies to attract more customers in certain price ranges."
      ],
      "metadata": {
        "id": "R4Ka1PC2phqR"
      }
    },
    {
      "cell_type": "markdown",
      "source": [
        "#### Chart - 11 - Correlation Heatmap"
      ],
      "metadata": {
        "id": "NC_X3p0fY2L0"
      }
    },
    {
      "cell_type": "code",
      "source": [
        "# Correlation between different variables using Heatmap\n",
        "\n",
        "plt.figure(figsize=(11,6))\n",
        "sns.heatmap(airbnb_df.corr(numeric_only=True), cmap='Dark2', annot=True)\n",
        "plt.show()"
      ],
      "metadata": {
        "id": "xyC9zolEZNRQ"
      },
      "execution_count": null,
      "outputs": []
    },
    {
      "cell_type": "markdown",
      "source": [
        "##### 1. Why did you pick the specific chart?"
      ],
      "metadata": {
        "id": "UV0SzAkaZNRQ"
      }
    },
    {
      "cell_type": "markdown",
      "source": [
        "The heatmap was chosen because it allows for visualizing the correlation between different variables in the dataset in a concise and informative manner."
      ],
      "metadata": {
        "id": "DVPuT8LYZNRQ"
      }
    },
    {
      "cell_type": "markdown",
      "source": [
        "##### 2. What is/are the insight(s) found from the chart?"
      ],
      "metadata": {
        "id": "YPEH6qLeZNRQ"
      }
    },
    {
      "cell_type": "markdown",
      "source": [
        "Insights from the heatmap help identify strong positive or negative correlations between variables. For example, if two variables have a high positive correlation, changes in one variable are likely to result in similar changes in the other variable. Conversely, a strong negative correlation suggests that changes in one variable lead to opposite changes in the other variable."
      ],
      "metadata": {
        "id": "bfSqtnDqZNRR"
      }
    },
    {
      "cell_type": "markdown",
      "source": [
        "#### Chart - 12 - Pair Plot"
      ],
      "metadata": {
        "id": "q29F0dvdveiT"
      }
    },
    {
      "cell_type": "code",
      "source": [
        "# Pair Plot visualization code\n",
        "\n",
        "plt.rcParams['figure.figsize'] = 10,8\n",
        "sns.pairplot(airbnb_df,vars = ['price','availability_365','calculated_host_listings_count','number_of_reviews'],hue = 'room_type',palette = 'Dark2')\n",
        "plt.show()"
      ],
      "metadata": {
        "id": "o58-TEIhveiU"
      },
      "execution_count": null,
      "outputs": []
    },
    {
      "cell_type": "markdown",
      "source": [
        "##### 1. Why did you pick the specific chart?"
      ],
      "metadata": {
        "id": "EXh0U9oCveiU"
      }
    },
    {
      "cell_type": "markdown",
      "source": [
        "The pair plot was chosen because it provides a comprehensive visualization of the relationships between multiple variables in the dataset. By plotting pairwise relationships between selected variables, we can quickly identify patterns, trends, and potential correlations."
      ],
      "metadata": {
        "id": "eMmPjTByveiU"
      }
    },
    {
      "cell_type": "markdown",
      "source": [
        "##### 2. What is/are the insight(s) found from the chart?"
      ],
      "metadata": {
        "id": "22aHeOlLveiV"
      }
    },
    {
      "cell_type": "markdown",
      "source": [
        "Insights from the pair plot include:\n",
        "\n",
        "* Understanding the distribution of each variable and how they relate to each other.\n",
        "* Identifying potential correlations or patterns between variables, such as whether certain variables tend to increase or decrease together.\n",
        "* Observing differences in relationships between variables across different categories, such as room types in this case, which can provide insights into how different factors may impact the variables differently.\n",
        "\n",
        "\n",
        "\n",
        "\n"
      ],
      "metadata": {
        "id": "uPQ8RGwHveiV"
      }
    },
    {
      "cell_type": "markdown",
      "source": [
        "## **5. Solution to Business Objective**"
      ],
      "metadata": {
        "id": "JcMwzZxoAimU"
      }
    },
    {
      "cell_type": "markdown",
      "source": [
        "#### What do you suggest the client to achieve Business Objective ?\n",
        "Explain Briefly."
      ],
      "metadata": {
        "id": "8G2x9gOozGDZ"
      }
    },
    {
      "cell_type": "markdown",
      "source": [
        "**Optimize Pricing:** Adjust pricing based on room type and neighborhood to remain competitive.\n",
        "\n",
        "**Increase Availability:** Identify and address periods of low listing availability to capture more bookings.\n",
        "\n",
        "**Engage Hosts:** Encourage hosts to improve listing quality and responsiveness to enhance guest satisfaction.\n",
        "\n",
        "**Target Marketing:** Tailor marketing efforts to attract specific customer segments identified in the dataset.\n",
        "\n",
        "**Monitor Performance:** Regularly track occupancy rates and booking trends to adapt strategies accordingly.\n",
        "\n",
        "**Support Hosts:** Offer training and resources to help hosts optimize their listings and improve earning potential.\n",
        "\n",
        "**Expand Portfolio:** Explore opportunities to expand listings in high-demand areas to increase market presence."
      ],
      "metadata": {
        "id": "pASKb0qOza21"
      }
    },
    {
      "cell_type": "markdown",
      "source": [
        "# **Conclusion**"
      ],
      "metadata": {
        "id": "gCX9965dhzqZ"
      }
    },
    {
      "cell_type": "markdown",
      "source": [
        "1. **Price Distribution:** The dataset reveals a varied distribution of prices across different room types and neighborhoods.\n",
        "\n",
        "2. **Room Type Insights:** There is a significant difference in pricing between different room types, with entire homes/apartments generally being more expensive.\n",
        "\n",
        "3. **Neighborhood Impact:** Pricing also varies based on the neighborhood, with certain areas commanding higher prices due to factors like location and amenities.\n",
        "\n",
        "4. **Availability Trends:** Availability of listings fluctuates over time, indicating potential seasonality or demand patterns.\n",
        "\n",
        "5. **Business Strategy Recommendations:**\n",
        "\n",
        "  * **Optimize Pricing:** Adjust prices based on room type and neighborhood to remain competitive.\n",
        "  * **Improve Availability:** Address periods of low availability to capture more bookings.\n",
        "  * **Enhance Listing Quality:** Encourage hosts to improve listing quality and responsiveness to enhance guest satisfaction.\n",
        "  * **Targeted Marketing:** Tailor marketing efforts to attract specific customer segments identified through analysis.\n",
        "6. **Future Considerations:** Continuously monitor performance metrics and adapt strategies to changing market conditions for sustained business success.Write the conclusion here."
      ],
      "metadata": {
        "id": "Fjb1IsQkh3yE"
      }
    },
    {
      "cell_type": "markdown",
      "source": [
        "### ***Hurrah! You have successfully completed your EDA Capstone Project !!!***"
      ],
      "metadata": {
        "id": "gIfDvo9L0UH2"
      }
    }
  ]
}